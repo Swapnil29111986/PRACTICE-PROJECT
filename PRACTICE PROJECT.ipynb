{
  "cells": [
    {
      "cell_type": "code",
      "execution_count": null,
      "metadata": {
        "colab": {
          "base_uri": "https://localhost:8080/"
        },
        "id": "F7OYN5Peca2t",
        "outputId": "7124a356-670b-4d2e-c443-651ca7a91cb6"
      },
      "outputs": [
        {
          "data": {
            "text/plain": [
              "{'data': [{'avatar': 'https://reqres.in/img/faces/7-image.jpg',\n",
              "   'email': 'michael.lawson@reqres.in',\n",
              "   'first_name': 'Michael',\n",
              "   'id': 7,\n",
              "   'last_name': 'Lawson'},\n",
              "  {'avatar': 'https://reqres.in/img/faces/8-image.jpg',\n",
              "   'email': 'lindsay.ferguson@reqres.in',\n",
              "   'first_name': 'Lindsay',\n",
              "   'id': 8,\n",
              "   'last_name': 'Ferguson'},\n",
              "  {'avatar': 'https://reqres.in/img/faces/9-image.jpg',\n",
              "   'email': 'tobias.funke@reqres.in',\n",
              "   'first_name': 'Tobias',\n",
              "   'id': 9,\n",
              "   'last_name': 'Funke'},\n",
              "  {'avatar': 'https://reqres.in/img/faces/10-image.jpg',\n",
              "   'email': 'byron.fields@reqres.in',\n",
              "   'first_name': 'Byron',\n",
              "   'id': 10,\n",
              "   'last_name': 'Fields'},\n",
              "  {'avatar': 'https://reqres.in/img/faces/11-image.jpg',\n",
              "   'email': 'george.edwards@reqres.in',\n",
              "   'first_name': 'George',\n",
              "   'id': 11,\n",
              "   'last_name': 'Edwards'},\n",
              "  {'avatar': 'https://reqres.in/img/faces/12-image.jpg',\n",
              "   'email': 'rachel.howell@reqres.in',\n",
              "   'first_name': 'Rachel',\n",
              "   'id': 12,\n",
              "   'last_name': 'Howell'}],\n",
              " 'page': 2,\n",
              " 'per_page': 6,\n",
              " 'support': {'text': 'To keep ReqRes free, contributions towards server costs are appreciated!',\n",
              "  'url': 'https://reqres.in/#support-heading'},\n",
              " 'total': 12,\n",
              " 'total_pages': 2}"
            ]
          },
          "execution_count": 2,
          "metadata": {},
          "output_type": "execute_result"
        }
      ],
      "source": [
        "requests.get(\"https://reqres.in/api/users?page=2\").json()"
      ]
    },
    {
      "cell_type": "code",
      "execution_count": null,
      "metadata": {
        "colab": {
          "base_uri": "https://localhost:8080/"
        },
        "id": "R8HRAqN0c_tN",
        "outputId": "ed30bfc8-b2e3-4bc4-cc50-258ec60f5952"
      },
      "outputs": [
        {
          "data": {
            "text/plain": [
              "{'data': {'avatar': 'https://reqres.in/img/faces/2-image.jpg',\n",
              "  'email': 'janet.weaver@reqres.in',\n",
              "  'first_name': 'Janet',\n",
              "  'id': 2,\n",
              "  'last_name': 'Weaver'},\n",
              " 'support': {'text': 'To keep ReqRes free, contributions towards server costs are appreciated!',\n",
              "  'url': 'https://reqres.in/#support-heading'}}"
            ]
          },
          "execution_count": 3,
          "metadata": {},
          "output_type": "execute_result"
        }
      ],
      "source": [
        "requests.get(\"https://reqres.in/api/users/2\").json()"
      ]
    },
    {
      "cell_type": "code",
      "execution_count": null,
      "metadata": {
        "colab": {
          "base_uri": "https://localhost:8080/"
        },
        "id": "MFZ6sreAddDJ",
        "outputId": "aa93dd5f-d649-4a12-c07f-ae29737bca47"
      },
      "outputs": [
        {
          "name": "stdout",
          "output_type": "stream",
          "text": [
            "{}\n"
          ]
        }
      ],
      "source": [
        "response = requests.get(\"https://reqres.in/api/users/23\").json()\n",
        "print(response)"
      ]
    },
    {
      "cell_type": "code",
      "execution_count": null,
      "metadata": {
        "colab": {
          "base_uri": "https://localhost:8080/"
        },
        "id": "dKX_-IKDdsSc",
        "outputId": "da3828db-78e0-4e6b-9fc8-1bbd2224e8b7"
      },
      "outputs": [
        {
          "data": {
            "text/plain": [
              "{'data': [{'color': '#98B2D1',\n",
              "   'id': 1,\n",
              "   'name': 'cerulean',\n",
              "   'pantone_value': '15-4020',\n",
              "   'year': 2000},\n",
              "  {'color': '#C74375',\n",
              "   'id': 2,\n",
              "   'name': 'fuchsia rose',\n",
              "   'pantone_value': '17-2031',\n",
              "   'year': 2001},\n",
              "  {'color': '#BF1932',\n",
              "   'id': 3,\n",
              "   'name': 'true red',\n",
              "   'pantone_value': '19-1664',\n",
              "   'year': 2002},\n",
              "  {'color': '#7BC4C4',\n",
              "   'id': 4,\n",
              "   'name': 'aqua sky',\n",
              "   'pantone_value': '14-4811',\n",
              "   'year': 2003},\n",
              "  {'color': '#E2583E',\n",
              "   'id': 5,\n",
              "   'name': 'tigerlily',\n",
              "   'pantone_value': '17-1456',\n",
              "   'year': 2004},\n",
              "  {'color': '#53B0AE',\n",
              "   'id': 6,\n",
              "   'name': 'blue turquoise',\n",
              "   'pantone_value': '15-5217',\n",
              "   'year': 2005}],\n",
              " 'page': 1,\n",
              " 'per_page': 6,\n",
              " 'support': {'text': 'To keep ReqRes free, contributions towards server costs are appreciated!',\n",
              "  'url': 'https://reqres.in/#support-heading'},\n",
              " 'total': 12,\n",
              " 'total_pages': 2}"
            ]
          },
          "execution_count": 6,
          "metadata": {},
          "output_type": "execute_result"
        }
      ],
      "source": [
        "requests.get(\"https://reqres.in/api/unknown\").json()"
      ]
    },
    {
      "cell_type": "code",
      "execution_count": null,
      "metadata": {
        "colab": {
          "base_uri": "https://localhost:8080/"
        },
        "id": "LXpepggoeFw6",
        "outputId": "8cb6ae73-1cfe-4723-df38-45a091a8fc56"
      },
      "outputs": [
        {
          "name": "stdout",
          "output_type": "stream",
          "text": [
            "<Response [200]>\n"
          ]
        }
      ],
      "source": [
        "response = requests.get(\"https://reqres.in/api/unknown/2\")\n",
        "print(response)"
      ]
    },
    {
      "cell_type": "code",
      "execution_count": null,
      "metadata": {
        "colab": {
          "base_uri": "https://localhost:8080/"
        },
        "id": "Qa2lB0VWehj8",
        "outputId": "bce01687-2792-48a8-b0fb-9c453a14f7cf"
      },
      "outputs": [
        {
          "name": "stdout",
          "output_type": "stream",
          "text": [
            "{}\n"
          ]
        }
      ],
      "source": [
        "response = requests.get(\"https://reqres.in/api/unknown/23\").json()\n",
        "print(response)"
      ]
    },
    {
      "cell_type": "code",
      "execution_count": null,
      "metadata": {
        "colab": {
          "base_uri": "https://localhost:8080/"
        },
        "id": "fXEaYGNif9TP",
        "outputId": "fc9196f3-88a6-43e6-81e3-ac2cb921d86a"
      },
      "outputs": [
        {
          "name": "stdout",
          "output_type": "stream",
          "text": [
            "{'name': 'morpheus', 'job': 'leader', 'id': '813', 'createdAt': '2022-04-04T13:54:24.026Z'}\n"
          ]
        }
      ],
      "source": [
        "url = 'https://reqres.in/api/users'\n",
        "r = requests.post(url, json={\n",
        "    \"name\": \"morpheus\",\n",
        "    \"job\": \"leader\"\n",
        "})\n",
        "\n",
        "print(r.json())"
      ]
    },
    {
      "cell_type": "code",
      "execution_count": null,
      "metadata": {
        "colab": {
          "base_uri": "https://localhost:8080/"
        },
        "id": "5R6n1mODmihT",
        "outputId": "b38b1d10-b7fb-49c0-a4ce-7e44cf61f113"
      },
      "outputs": [
        {
          "name": "stdout",
          "output_type": "stream",
          "text": [
            "{'name': 'morpheus', 'job': 'zion resident', 'id': '630', 'createdAt': '2022-04-04T13:54:25.397Z'}\n"
          ]
        }
      ],
      "source": [
        "url = 'https://reqres.in/api/users/2'\n",
        "r = requests.post(url, json={\n",
        "    \"name\": \"morpheus\",\n",
        "    \"job\": \"zion resident\"\n",
        "})\n",
        "\n",
        "print(r.json())\n"
      ]
    },
    {
      "cell_type": "code",
      "execution_count": null,
      "metadata": {
        "colab": {
          "base_uri": "https://localhost:8080/"
        },
        "id": "6t_0liYOnQQS",
        "outputId": "c533264d-a950-4929-9839-ab26222b2e65"
      },
      "outputs": [
        {
          "name": "stdout",
          "output_type": "stream",
          "text": [
            "{'name': 'morpheus', 'job': 'zion resident', 'id': '372', 'createdAt': '2022-04-04T13:54:29.918Z'}\n"
          ]
        }
      ],
      "source": [
        "url = 'https://reqres.in/api/users/2'\n",
        "r = requests.post(url, json={\n",
        "    \"name\": \"morpheus\",\n",
        "    \"job\": \"zion resident\"\n",
        "})\n",
        "\n",
        "print(r.json())"
      ]
    },
    {
      "cell_type": "code",
      "execution_count": null,
      "metadata": {
        "colab": {
          "base_uri": "https://localhost:8080/"
        },
        "id": "sHmIHrJGpcT9",
        "outputId": "82af12e5-cc2b-46e2-c3cd-4e6adac72bdd"
      },
      "outputs": [
        {
          "data": {
            "text/plain": [
              "{'data': {'avatar': 'https://reqres.in/img/faces/2-image.jpg',\n",
              "  'email': 'janet.weaver@reqres.in',\n",
              "  'first_name': 'Janet',\n",
              "  'id': 2,\n",
              "  'last_name': 'Weaver'},\n",
              " 'support': {'text': 'To keep ReqRes free, contributions towards server costs are appreciated!',\n",
              "  'url': 'https://reqres.in/#support-heading'}}"
            ]
          },
          "execution_count": 14,
          "metadata": {},
          "output_type": "execute_result"
        }
      ],
      "source": [
        "requests.get(\"https://reqres.in/api/users/2\").json()"
      ]
    },
    {
      "cell_type": "code",
      "execution_count": null,
      "metadata": {
        "colab": {
          "base_uri": "https://localhost:8080/"
        },
        "id": "m2KMJw7CpnEB",
        "outputId": "49b122b0-c31e-4296-cc36-2681fc6e6f51"
      },
      "outputs": [
        {
          "name": "stdout",
          "output_type": "stream",
          "text": [
            "{'id': 4, 'token': 'QpwL5tke4Pnpja7X4'}\n"
          ]
        }
      ],
      "source": [
        "url = 'https://reqres.in/api/register'\n",
        "r = requests.post(url, json={\n",
        "    \"email\": \"eve.holt@reqres.in\",\n",
        "    \"password\": \"pistol\"\n",
        "})\n",
        "\n",
        "print(r.json())"
      ]
    },
    {
      "cell_type": "code",
      "execution_count": null,
      "metadata": {
        "colab": {
          "base_uri": "https://localhost:8080/"
        },
        "id": "qKujIh8-qUyz",
        "outputId": "e87b95d1-5547-4fc3-e07b-77efb5d9af0a"
      },
      "outputs": [
        {
          "name": "stdout",
          "output_type": "stream",
          "text": [
            "{'error': 'Missing password'}\n"
          ]
        }
      ],
      "source": [
        "url = 'https://reqres.in/api/register'\n",
        "r = requests.post(url, json={\n",
        "    \"email\": \"sydney@fife\"\n",
        "})\n",
        "\n",
        "print(r.json())"
      ]
    },
    {
      "cell_type": "code",
      "execution_count": null,
      "metadata": {
        "colab": {
          "base_uri": "https://localhost:8080/"
        },
        "id": "6wK-ZpxQrI0n",
        "outputId": "879eb870-e97d-425a-ba5a-216fad689c3c"
      },
      "outputs": [
        {
          "name": "stdout",
          "output_type": "stream",
          "text": [
            "{'token': 'QpwL5tke4Pnpja7X4'}\n"
          ]
        }
      ],
      "source": [
        "url = 'https://reqres.in/api/login'\n",
        "r = requests.post(url, json={\n",
        "    \"email\": \"eve.holt@reqres.in\",\n",
        "    \"password\": \"cityslicka\"\n",
        "})\n",
        "\n",
        "print(r.json())"
      ]
    },
    {
      "cell_type": "code",
      "execution_count": null,
      "metadata": {
        "colab": {
          "base_uri": "https://localhost:8080/"
        },
        "id": "XlFn5HToroig",
        "outputId": "93cd6f7f-ad0c-467a-b515-6b6259394703"
      },
      "outputs": [
        {
          "name": "stdout",
          "output_type": "stream",
          "text": [
            "{'error': 'Missing password'}\n"
          ]
        }
      ],
      "source": [
        "url = 'https://reqres.in/api/login'\n",
        "r = requests.post(url, json={\n",
        "    \"email\": \"peter@klaven\"\n",
        "})\n",
        "\n",
        "print(r.json())"
      ]
    },
    {
      "cell_type": "code",
      "execution_count": null,
      "metadata": {
        "colab": {
          "base_uri": "https://localhost:8080/"
        },
        "id": "pigyFakjrzRQ",
        "outputId": "a76c8bd4-9a85-479c-f406-8897b6cec7e3"
      },
      "outputs": [
        {
          "data": {
            "text/plain": [
              "{'data': [{'avatar': 'https://reqres.in/img/faces/1-image.jpg',\n",
              "   'email': 'george.bluth@reqres.in',\n",
              "   'first_name': 'George',\n",
              "   'id': 1,\n",
              "   'last_name': 'Bluth'},\n",
              "  {'avatar': 'https://reqres.in/img/faces/2-image.jpg',\n",
              "   'email': 'janet.weaver@reqres.in',\n",
              "   'first_name': 'Janet',\n",
              "   'id': 2,\n",
              "   'last_name': 'Weaver'},\n",
              "  {'avatar': 'https://reqres.in/img/faces/3-image.jpg',\n",
              "   'email': 'emma.wong@reqres.in',\n",
              "   'first_name': 'Emma',\n",
              "   'id': 3,\n",
              "   'last_name': 'Wong'},\n",
              "  {'avatar': 'https://reqres.in/img/faces/4-image.jpg',\n",
              "   'email': 'eve.holt@reqres.in',\n",
              "   'first_name': 'Eve',\n",
              "   'id': 4,\n",
              "   'last_name': 'Holt'},\n",
              "  {'avatar': 'https://reqres.in/img/faces/5-image.jpg',\n",
              "   'email': 'charles.morris@reqres.in',\n",
              "   'first_name': 'Charles',\n",
              "   'id': 5,\n",
              "   'last_name': 'Morris'},\n",
              "  {'avatar': 'https://reqres.in/img/faces/6-image.jpg',\n",
              "   'email': 'tracey.ramos@reqres.in',\n",
              "   'first_name': 'Tracey',\n",
              "   'id': 6,\n",
              "   'last_name': 'Ramos'}],\n",
              " 'page': 1,\n",
              " 'per_page': 6,\n",
              " 'support': {'text': 'To keep ReqRes free, contributions towards server costs are appreciated!',\n",
              "  'url': 'https://reqres.in/#support-heading'},\n",
              " 'total': 12,\n",
              " 'total_pages': 2}"
            ]
          },
          "execution_count": 19,
          "metadata": {},
          "output_type": "execute_result"
        }
      ],
      "source": [
        "requests.get(\"https://reqres.in/api/users?delay=3\").json()"
      ]
    }
  ],
  "metadata": {
    "colab": {
      "collapsed_sections": [],
      "name": " Implement Google Places and HTTP method API-Swapnil",
      "provenance": []
    },
    "kernelspec": {
      "display_name": "Python 3",
      "name": "python3"
    },
    "language_info": {
      "name": "python"
    }
  },
  "nbformat": 4,
  "nbformat_minor": 0
}
